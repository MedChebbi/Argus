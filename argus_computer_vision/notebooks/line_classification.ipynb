{
  "nbformat": 4,
  "nbformat_minor": 0,
  "metadata": {
    "colab": {
      "name": "line_classification.ipynb",
      "provenance": [],
      "toc_visible": true
    },
    "kernelspec": {
      "name": "python3",
      "display_name": "Python 3"
    },
    "language_info": {
      "name": "python"
    }
  },
  "cells": [
    {
      "cell_type": "code",
      "metadata": {
        "colab": {
          "base_uri": "https://localhost:8080/"
        },
        "id": "vVBRu-jgCtDt",
        "outputId": "0c0f8a7f-6d25-4702-ae50-33e83e469682"
      },
      "source": [
        "import numpy as np\n",
        "import cv2\n",
        "from matplotlib import pyplot\n",
        "import tensorflow as tf\n",
        "from tensorflow import keras\n",
        "print(tf.__version__)"
      ],
      "execution_count": 6,
      "outputs": [
        {
          "output_type": "stream",
          "text": [
            "2.4.1\n"
          ],
          "name": "stdout"
        }
      ]
    },
    {
      "cell_type": "markdown",
      "metadata": {
        "id": "mHR4e2A3Myha"
      },
      "source": [
        "#Loading dataset"
      ]
    },
    {
      "cell_type": "code",
      "metadata": {
        "colab": {
          "base_uri": "https://localhost:8080/"
        },
        "id": "SOwAcTCtORrg",
        "outputId": "b2f557e0-5553-4138-df1d-c7143c542245"
      },
      "source": [
        "from google.colab import drive\n",
        "drive.mount('/content/drive',force_remount=True)"
      ],
      "execution_count": 7,
      "outputs": [
        {
          "output_type": "stream",
          "text": [
            "Mounted at /content/drive\n"
          ],
          "name": "stdout"
        }
      ]
    },
    {
      "cell_type": "code",
      "metadata": {
        "id": "pBaNNjAFOLEH"
      },
      "source": [
        "import zipfile\n",
        "path=\"drive/MyDrive/\"\n",
        "zip_ref = zipfile.ZipFile(path+\"line_dataset.zip\", 'r')\n",
        "zip_ref.extractall()\n",
        "zip_ref.close()"
      ],
      "execution_count": 8,
      "outputs": []
    },
    {
      "cell_type": "code",
      "metadata": {
        "id": "KXuoSRZhMyEw",
        "colab": {
          "base_uri": "https://localhost:8080/"
        },
        "outputId": "6c7d951a-6e4a-49c1-db86-a15f679c52e4"
      },
      "source": [
        "from keras.preprocessing.image import ImageDataGenerator\n",
        "train_datagen=ImageDataGenerator(rescale=1/255,\n",
        "                                 rotation_range = 5,\n",
        "                                 shear_range = 0.03,\n",
        "                                 zoom_range = [0.98,1.1],\n",
        "                                 horizontal_flip = False,\n",
        "                                 vertical_flip = False,\n",
        "                                 validation_split=0.2)\n",
        "\n",
        "train_set = train_datagen.flow_from_directory(\n",
        "        \"/content/line_dataset\",\n",
        "        target_size=(64,64),\n",
        "        color_mode='grayscale',\n",
        "        class_mode='categorical',\n",
        "        batch_size=4,\n",
        "        shuffle= True,\n",
        "        subset='training')\n",
        "test_set = train_datagen.flow_from_directory(\n",
        "        \"/content/line_dataset\",\n",
        "        target_size=(64,64),\n",
        "        color_mode='grayscale',\n",
        "        batch_size=4,\n",
        "        class_mode='categorical',\n",
        "        shuffle= True,\n",
        "        subset='validation')\n",
        "\n",
        "print(train_set.class_indices)"
      ],
      "execution_count": 9,
      "outputs": [
        {
          "output_type": "stream",
          "text": [
            "Found 638 images belonging to 6 classes.\n",
            "Found 156 images belonging to 6 classes.\n",
            "{'0_straight': 0, '1_x': 1, '2_T': 2, '3_left': 3, '4_right': 4, '5_end': 5}\n"
          ],
          "name": "stdout"
        }
      ]
    },
    {
      "cell_type": "code",
      "metadata": {
        "id": "owk-f41mWcmN"
      },
      "source": [
        "GRAY_INPUT_SHAPE = (64, 64, 1)\n",
        "NUM_CLASSES = 6\n",
        "class_names = ['straight', 'x', 'T', 'left', 'right', 'end']"
      ],
      "execution_count": 10,
      "outputs": []
    },
    {
      "cell_type": "code",
      "metadata": {
        "id": "YhGAvlFIaJmi"
      },
      "source": [
        "def preprocess(img,input_shape=GRAY_INPUT_SHAPE):\n",
        "    img = cv2.resize(img, (input_shape[0],input_shape[1]))\n",
        "    if input_shape[2]==1:\n",
        "        img = cv2.cvtColor(img,cv2.COLOR_BGR2GRAY)\n",
        "    img = np.array(np.reshape(img,input_shape),\n",
        "                                      dtype=np.uint8)\n",
        "    \n",
        "    img_test = (np.expand_dims(img, axis = 0))\n",
        "    img_test = img_test/255.\n",
        "    return img_test"
      ],
      "execution_count": 11,
      "outputs": []
    },
    {
      "cell_type": "markdown",
      "metadata": {
        "id": "BAbCIfrCOykn"
      },
      "source": [
        "#A simple grayscale CNN classifier"
      ]
    },
    {
      "cell_type": "code",
      "metadata": {
        "id": "93JbuE9fO8wO"
      },
      "source": [
        "from keras.models import Sequential\n",
        "from keras.layers import Conv2D\n",
        "from keras.layers import MaxPooling2D\n",
        "from keras.layers import Flatten\n",
        "from keras.layers import Dense\n",
        "from keras.layers import Dropout\n",
        "from keras.layers import BatchNormalization\n",
        "from keras.models import Model\n",
        "\n",
        "model_gray= Sequential()\n",
        "model_gray.add(Conv2D(32, (3, 3), input_shape = GRAY_INPUT_SHAPE, activation = 'relu' )) \n",
        "model_gray.add(MaxPooling2D(pool_size=(2,2))) \n",
        "model_gray.add(BatchNormalization()) \n",
        "\n",
        "model_gray.add(Conv2D(64, (3, 3), activation = 'relu')) \n",
        "model_gray.add(MaxPooling2D(pool_size = (2, 2))) \n",
        "model_gray.add(BatchNormalization())\n",
        "\n",
        "model_gray.add(Conv2D(128, (3, 3), activation = 'relu')) \n",
        "model_gray.add(MaxPooling2D(pool_size = (2, 2))) \n",
        "model_gray.add(BatchNormalization())\n",
        "\n",
        "model_gray.add(Flatten())\n",
        "model_gray.add(Dense(units = 64, activation = 'relu'))  \n",
        "model_gray.add(Dropout( rate = 0.2 ))\n",
        "model_gray.add(Dense(units = 32, activation = 'relu'))  \n",
        "model_gray.add(Dense(units = 16, activation = 'relu'))  \n",
        "\n",
        "model_gray.add(Dense(units = NUM_CLASSES , activation = 'softmax')) "
      ],
      "execution_count": 18,
      "outputs": []
    },
    {
      "cell_type": "code",
      "metadata": {
        "colab": {
          "base_uri": "https://localhost:8080/"
        },
        "id": "RatZMJ6v1U1M",
        "outputId": "c9b33dca-a886-448f-f99f-58bbe0477e67"
      },
      "source": [
        "model_gray.summary()"
      ],
      "execution_count": 19,
      "outputs": [
        {
          "output_type": "stream",
          "text": [
            "Model: \"sequential_3\"\n",
            "_________________________________________________________________\n",
            "Layer (type)                 Output Shape              Param #   \n",
            "=================================================================\n",
            "conv2d_7 (Conv2D)            (None, 62, 62, 32)        320       \n",
            "_________________________________________________________________\n",
            "max_pooling2d_7 (MaxPooling2 (None, 31, 31, 32)        0         \n",
            "_________________________________________________________________\n",
            "batch_normalization_7 (Batch (None, 31, 31, 32)        128       \n",
            "_________________________________________________________________\n",
            "conv2d_8 (Conv2D)            (None, 29, 29, 64)        18496     \n",
            "_________________________________________________________________\n",
            "max_pooling2d_8 (MaxPooling2 (None, 14, 14, 64)        0         \n",
            "_________________________________________________________________\n",
            "batch_normalization_8 (Batch (None, 14, 14, 64)        256       \n",
            "_________________________________________________________________\n",
            "conv2d_9 (Conv2D)            (None, 12, 12, 128)       73856     \n",
            "_________________________________________________________________\n",
            "max_pooling2d_9 (MaxPooling2 (None, 6, 6, 128)         0         \n",
            "_________________________________________________________________\n",
            "batch_normalization_9 (Batch (None, 6, 6, 128)         512       \n",
            "_________________________________________________________________\n",
            "flatten_3 (Flatten)          (None, 4608)              0         \n",
            "_________________________________________________________________\n",
            "dense_12 (Dense)             (None, 64)                294976    \n",
            "_________________________________________________________________\n",
            "dropout_3 (Dropout)          (None, 64)                0         \n",
            "_________________________________________________________________\n",
            "dense_13 (Dense)             (None, 32)                2080      \n",
            "_________________________________________________________________\n",
            "dense_14 (Dense)             (None, 16)                528       \n",
            "_________________________________________________________________\n",
            "dense_15 (Dense)             (None, 6)                 102       \n",
            "=================================================================\n",
            "Total params: 391,254\n",
            "Trainable params: 390,806\n",
            "Non-trainable params: 448\n",
            "_________________________________________________________________\n"
          ],
          "name": "stdout"
        }
      ]
    },
    {
      "cell_type": "code",
      "metadata": {
        "id": "5cpJz262YFA_",
        "colab": {
          "base_uri": "https://localhost:8080/"
        },
        "outputId": "2705f9cd-ebc2-46bd-a7df-cc952aac54cf"
      },
      "source": [
        "from keras.callbacks import ModelCheckpoint, EarlyStopping\n",
        "\n",
        "early = EarlyStopping(monitor='val_accuracy', \n",
        "                      min_delta=0, \n",
        "                      patience=8, \n",
        "                      verbose=1, \n",
        "                      mode='auto')\n",
        "\n",
        "model_gray.compile(optimizer='adam',\n",
        "                   loss='categorical_crossentropy',\n",
        "                    metrics=['accuracy'])\n",
        "\n",
        "history = model_gray.fit(\n",
        "          train_set,\n",
        "          steps_per_epoch=50,\n",
        "          epochs=30,\n",
        "          validation_data=test_set,\n",
        "          validation_steps=20,\n",
        "          shuffle = True,\n",
        "          callbacks=[early])"
      ],
      "execution_count": 20,
      "outputs": [
        {
          "output_type": "stream",
          "text": [
            "Epoch 1/30\n",
            "50/50 [==============================] - 4s 53ms/step - loss: 2.2045 - accuracy: 0.2270 - val_loss: 1.9316 - val_accuracy: 0.1125\n",
            "Epoch 2/30\n",
            "50/50 [==============================] - 2s 47ms/step - loss: 1.7421 - accuracy: 0.4580 - val_loss: 2.5844 - val_accuracy: 0.1000\n",
            "Epoch 3/30\n",
            "50/50 [==============================] - 2s 47ms/step - loss: 1.1100 - accuracy: 0.6033 - val_loss: 2.9601 - val_accuracy: 0.1000\n",
            "Epoch 4/30\n",
            "50/50 [==============================] - 2s 48ms/step - loss: 1.2345 - accuracy: 0.5589 - val_loss: 3.6956 - val_accuracy: 0.1375\n",
            "Epoch 5/30\n",
            "50/50 [==============================] - 2s 47ms/step - loss: 0.8925 - accuracy: 0.6563 - val_loss: 5.1410 - val_accuracy: 0.1875\n",
            "Epoch 6/30\n",
            "50/50 [==============================] - 2s 48ms/step - loss: 0.8899 - accuracy: 0.6985 - val_loss: 5.6932 - val_accuracy: 0.1625\n",
            "Epoch 7/30\n",
            "50/50 [==============================] - 2s 48ms/step - loss: 0.7441 - accuracy: 0.7694 - val_loss: 4.0913 - val_accuracy: 0.1750\n",
            "Epoch 8/30\n",
            "50/50 [==============================] - 2s 47ms/step - loss: 0.8039 - accuracy: 0.7294 - val_loss: 2.8680 - val_accuracy: 0.1875\n",
            "Epoch 9/30\n",
            "50/50 [==============================] - 2s 48ms/step - loss: 0.4804 - accuracy: 0.8520 - val_loss: 1.3247 - val_accuracy: 0.5000\n",
            "Epoch 10/30\n",
            "50/50 [==============================] - 2s 47ms/step - loss: 0.5753 - accuracy: 0.7832 - val_loss: 1.2486 - val_accuracy: 0.4250\n",
            "Epoch 11/30\n",
            "50/50 [==============================] - 2s 48ms/step - loss: 0.6476 - accuracy: 0.7928 - val_loss: 0.5188 - val_accuracy: 0.7375\n",
            "Epoch 12/30\n",
            "50/50 [==============================] - 2s 49ms/step - loss: 0.5221 - accuracy: 0.7902 - val_loss: 0.7061 - val_accuracy: 0.7500\n",
            "Epoch 13/30\n",
            "50/50 [==============================] - 2s 47ms/step - loss: 0.5748 - accuracy: 0.8212 - val_loss: 0.5971 - val_accuracy: 0.8250\n",
            "Epoch 14/30\n",
            "50/50 [==============================] - 2s 47ms/step - loss: 0.3022 - accuracy: 0.8723 - val_loss: 0.4637 - val_accuracy: 0.8875\n",
            "Epoch 15/30\n",
            "50/50 [==============================] - 2s 48ms/step - loss: 0.7036 - accuracy: 0.8213 - val_loss: 0.6411 - val_accuracy: 0.8875\n",
            "Epoch 16/30\n",
            "50/50 [==============================] - 2s 48ms/step - loss: 0.2770 - accuracy: 0.9084 - val_loss: 0.3803 - val_accuracy: 0.9125\n",
            "Epoch 17/30\n",
            "50/50 [==============================] - 2s 48ms/step - loss: 0.4833 - accuracy: 0.8224 - val_loss: 1.3479 - val_accuracy: 0.5375\n",
            "Epoch 18/30\n",
            "50/50 [==============================] - 2s 48ms/step - loss: 0.3797 - accuracy: 0.8721 - val_loss: 0.2607 - val_accuracy: 0.9125\n",
            "Epoch 19/30\n",
            "50/50 [==============================] - 2s 48ms/step - loss: 0.3290 - accuracy: 0.8864 - val_loss: 0.5992 - val_accuracy: 0.8750\n",
            "Epoch 20/30\n",
            "50/50 [==============================] - 2s 48ms/step - loss: 0.2890 - accuracy: 0.9117 - val_loss: 0.3916 - val_accuracy: 0.9375\n",
            "Epoch 21/30\n",
            "50/50 [==============================] - 2s 48ms/step - loss: 0.4468 - accuracy: 0.9004 - val_loss: 0.7297 - val_accuracy: 0.7625\n",
            "Epoch 22/30\n",
            "50/50 [==============================] - 2s 47ms/step - loss: 0.4416 - accuracy: 0.8672 - val_loss: 0.1978 - val_accuracy: 0.9250\n",
            "Epoch 23/30\n",
            "50/50 [==============================] - 2s 48ms/step - loss: 0.2649 - accuracy: 0.9305 - val_loss: 0.5677 - val_accuracy: 0.9250\n",
            "Epoch 24/30\n",
            "50/50 [==============================] - 2s 49ms/step - loss: 0.3400 - accuracy: 0.8853 - val_loss: 0.5703 - val_accuracy: 0.8750\n",
            "Epoch 25/30\n",
            "50/50 [==============================] - 2s 48ms/step - loss: 0.3786 - accuracy: 0.8745 - val_loss: 0.3655 - val_accuracy: 0.9625\n",
            "Epoch 26/30\n",
            "50/50 [==============================] - 2s 48ms/step - loss: 0.1888 - accuracy: 0.9485 - val_loss: 0.4704 - val_accuracy: 0.9250\n",
            "Epoch 27/30\n",
            "50/50 [==============================] - 2s 49ms/step - loss: 0.2623 - accuracy: 0.9262 - val_loss: 0.6437 - val_accuracy: 0.9125\n",
            "Epoch 28/30\n",
            "50/50 [==============================] - 2s 49ms/step - loss: 0.1940 - accuracy: 0.9128 - val_loss: 0.4075 - val_accuracy: 0.8625\n",
            "Epoch 29/30\n",
            "50/50 [==============================] - 2s 49ms/step - loss: 0.0895 - accuracy: 0.9780 - val_loss: 0.0400 - val_accuracy: 0.9875\n",
            "Epoch 30/30\n",
            "50/50 [==============================] - 2s 49ms/step - loss: 0.1683 - accuracy: 0.9377 - val_loss: 0.6670 - val_accuracy: 0.8875\n"
          ],
          "name": "stdout"
        }
      ]
    },
    {
      "cell_type": "code",
      "metadata": {
        "id": "N6TwDmAKTYAa",
        "colab": {
          "base_uri": "https://localhost:8080/"
        },
        "outputId": "0f3800ff-c57b-429e-9c28-a05925831292"
      },
      "source": [
        "history.history"
      ],
      "execution_count": 21,
      "outputs": [
        {
          "output_type": "execute_result",
          "data": {
            "text/plain": [
              "{'accuracy': [0.2929292917251587,\n",
              "  0.4300000071525574,\n",
              "  0.6161616444587708,\n",
              "  0.5707070827484131,\n",
              "  0.6549999713897705,\n",
              "  0.7350000143051147,\n",
              "  0.7599999904632568,\n",
              "  0.7575757503509521,\n",
              "  0.7979797720909119,\n",
              "  0.7850000262260437,\n",
              "  0.7575757503509521,\n",
              "  0.8450000286102295,\n",
              "  0.8349999785423279,\n",
              "  0.8799999952316284,\n",
              "  0.8349999785423279,\n",
              "  0.8849999904632568,\n",
              "  0.8550000190734863,\n",
              "  0.8349999785423279,\n",
              "  0.875,\n",
              "  0.9049999713897705,\n",
              "  0.925000011920929,\n",
              "  0.8888888955116272,\n",
              "  0.8949999809265137,\n",
              "  0.8949999809265137,\n",
              "  0.8899999856948853,\n",
              "  0.9300000071525574,\n",
              "  0.9399999976158142,\n",
              "  0.9049999713897705,\n",
              "  0.9599999785423279,\n",
              "  0.9300000071525574],\n",
              " 'loss': [2.1708011627197266,\n",
              "  1.6360357999801636,\n",
              "  1.1393519639968872,\n",
              "  1.1816385984420776,\n",
              "  0.944318413734436,\n",
              "  0.840807318687439,\n",
              "  0.7043262720108032,\n",
              "  0.6870132684707642,\n",
              "  0.5610242486000061,\n",
              "  0.6145662069320679,\n",
              "  0.7166757583618164,\n",
              "  0.41420093178749084,\n",
              "  0.4355483949184418,\n",
              "  0.3130492866039276,\n",
              "  0.6867541670799255,\n",
              "  0.3205755352973938,\n",
              "  0.39196422696113586,\n",
              "  0.46869537234306335,\n",
              "  0.36127203702926636,\n",
              "  0.30450838804244995,\n",
              "  0.3467961847782135,\n",
              "  0.3016816973686218,\n",
              "  0.3216007947921753,\n",
              "  0.3621358871459961,\n",
              "  0.3359735906124115,\n",
              "  0.24874430894851685,\n",
              "  0.19509989023208618,\n",
              "  0.22473034262657166,\n",
              "  0.10595529526472092,\n",
              "  0.21335679292678833],\n",
              " 'val_accuracy': [0.11249999701976776,\n",
              "  0.10000000149011612,\n",
              "  0.10000000149011612,\n",
              "  0.13750000298023224,\n",
              "  0.1875,\n",
              "  0.16249999403953552,\n",
              "  0.17499999701976776,\n",
              "  0.1875,\n",
              "  0.5,\n",
              "  0.42500001192092896,\n",
              "  0.737500011920929,\n",
              "  0.75,\n",
              "  0.824999988079071,\n",
              "  0.887499988079071,\n",
              "  0.887499988079071,\n",
              "  0.9125000238418579,\n",
              "  0.5375000238418579,\n",
              "  0.9125000238418579,\n",
              "  0.875,\n",
              "  0.9375,\n",
              "  0.762499988079071,\n",
              "  0.925000011920929,\n",
              "  0.925000011920929,\n",
              "  0.875,\n",
              "  0.9624999761581421,\n",
              "  0.925000011920929,\n",
              "  0.9125000238418579,\n",
              "  0.862500011920929,\n",
              "  0.987500011920929,\n",
              "  0.887499988079071],\n",
              " 'val_loss': [1.9316343069076538,\n",
              "  2.5844051837921143,\n",
              "  2.9601263999938965,\n",
              "  3.6955952644348145,\n",
              "  5.1410417556762695,\n",
              "  5.693243980407715,\n",
              "  4.091250419616699,\n",
              "  2.8680291175842285,\n",
              "  1.3246937990188599,\n",
              "  1.248643159866333,\n",
              "  0.5188461542129517,\n",
              "  0.7060758471488953,\n",
              "  0.5970983505249023,\n",
              "  0.4637066423892975,\n",
              "  0.6410791873931885,\n",
              "  0.3803180158138275,\n",
              "  1.3478549718856812,\n",
              "  0.26065751910209656,\n",
              "  0.5992468595504761,\n",
              "  0.39157670736312866,\n",
              "  0.7296541929244995,\n",
              "  0.19777636229991913,\n",
              "  0.5676907300949097,\n",
              "  0.5703170895576477,\n",
              "  0.3655014634132385,\n",
              "  0.4703855514526367,\n",
              "  0.6437286138534546,\n",
              "  0.4074546694755554,\n",
              "  0.04001161828637123,\n",
              "  0.6669647693634033]}"
            ]
          },
          "metadata": {
            "tags": []
          },
          "execution_count": 21
        }
      ]
    },
    {
      "cell_type": "code",
      "metadata": {
        "colab": {
          "base_uri": "https://localhost:8080/"
        },
        "id": "UxCzblajWNe4",
        "outputId": "d948fd39-3e5d-41cd-9ad7-d331c0508a3d"
      },
      "source": [
        "results = model_gray.evaluate(test_set, batch_size=4)\n",
        "print(\"test loss, test acc:\", results)"
      ],
      "execution_count": 23,
      "outputs": [
        {
          "output_type": "stream",
          "text": [
            "39/39 [==============================] - 1s 18ms/step - loss: 0.4354 - accuracy: 0.9167\n",
            "test loss, test acc: [0.43537184596061707, 0.9166666865348816]\n"
          ],
          "name": "stdout"
        }
      ]
    },
    {
      "cell_type": "code",
      "metadata": {
        "colab": {
          "base_uri": "https://localhost:8080/",
          "height": 328
        },
        "id": "K7PN5U_GXdOt",
        "outputId": "36d68fef-e7bb-4ffe-9bfe-3bc2759aaf97"
      },
      "source": [
        "img = cv2.imread('end2.jpg')\n",
        "\n",
        "test_img = preprocess(img)\n",
        "print(test_img.shape)\n",
        "pyplot.imshow(img)\n",
        "prediction = model_gray.predict(test_img)\n",
        "print(prediction)\n",
        "pred_index = np.argmax(prediction[0])\n",
        "print('The predicted class is:', class_names[pred_index] )"
      ],
      "execution_count": null,
      "outputs": [
        {
          "output_type": "stream",
          "text": [
            "(1, 64, 64, 1)\n",
            "[[7.04735667e-02 5.61234128e-06 6.82490572e-05 1.16130595e-05\n",
            "  1.03129787e-04 9.29337800e-01]]\n",
            "The predicted class is: end\n"
          ],
          "name": "stdout"
        },
        {
          "output_type": "display_data",
          "data": {
            "image/png": "[encoded data removed]",
            "text/plain": [
              "<Figure size 432x288 with 1 Axes>"
            ]
          },
          "metadata": {
            "tags": [],
            "needs_background": "light"
          }
        }
      ]
    },
    {
      "cell_type": "code",
      "metadata": {
        "id": "qz7A7wS1Z6Xz",
        "colab": {
          "base_uri": "https://localhost:8080/"
        },
        "outputId": "589ba1c1-984b-46f1-8b4f-7cfdd87a7afa"
      },
      "source": [
        "model_gray.save(\"drive/MyDrive/grayscale_line_classifier\")"
      ],
      "execution_count": 24,
      "outputs": [
        {
          "output_type": "stream",
          "text": [
            "INFO:tensorflow:Assets written to: drive/MyDrive/grayscale_line_classifier/assets\n"
          ],
          "name": "stdout"
        }
      ]
    },
    {
      "cell_type": "markdown",
      "metadata": {
        "id": "wRMHP70OMrq6"
      },
      "source": [
        "#Transfer Learning"
      ]
    },
    {
      "cell_type": "code",
      "metadata": {
        "id": "RNNYO57GC6xV",
        "colab": {
          "base_uri": "https://localhost:8080/"
        },
        "outputId": "03ce5f77-495f-4810-b417-7be3c4b5e4b4"
      },
      "source": [
        "INPUT_SHAPE = (128, 128, 3)\n",
        "NUM_CLASSES = 6\n",
        "\n",
        "base_model = keras.applications.ResNet50(\n",
        "    include_top=False,\n",
        "    weights=\"imagenet\",\n",
        "    input_shape=INPUT_SHAPE,\n",
        "    pooling=None)"
      ],
      "execution_count": 27,
      "outputs": [
        {
          "output_type": "stream",
          "text": [
            "Downloading data from https://storage.googleapis.com/tensorflow/keras-applications/resnet/resnet50_weights_tf_dim_ordering_tf_kernels_notop.h5\n",
            "94773248/94765736 [==============================] - 1s 0us/step\n"
          ],
          "name": "stdout"
        }
      ]
    },
    {
      "cell_type": "code",
      "metadata": {
        "colab": {
          "base_uri": "https://localhost:8080/"
        },
        "id": "n0KWBA6B4TkM",
        "outputId": "81b09663-23d3-4a7e-b596-c98cc071eac2"
      },
      "source": [
        "from keras.preprocessing.image import ImageDataGenerator\n",
        "train_datagen_rgb=ImageDataGenerator(rescale=1/255,\n",
        "                                 rotation_range = 5,\n",
        "                                 shear_range = 0.03,\n",
        "                                 zoom_range = [0.98,1.1],\n",
        "                                 horizontal_flip = False,\n",
        "                                 vertical_flip = False,\n",
        "                                 validation_split=0.2)\n",
        "\n",
        "train_set_rgb = train_datagen_rgb.flow_from_directory(\n",
        "        \"/content/line_dataset\",\n",
        "        target_size=(128,128),\n",
        "        color_mode='rgb',\n",
        "        class_mode='categorical',\n",
        "        batch_size=4,\n",
        "        shuffle= True,\n",
        "        subset='training')\n",
        "test_set_rgb = train_datagen.flow_from_directory(\n",
        "        \"/content/line_dataset\",\n",
        "        target_size=(128,128),\n",
        "        color_mode='rgb',\n",
        "        batch_size=4,\n",
        "        class_mode='categorical',\n",
        "        shuffle= True,\n",
        "        subset='validation')"
      ],
      "execution_count": 28,
      "outputs": [
        {
          "output_type": "stream",
          "text": [
            "Found 638 images belonging to 6 classes.\n",
            "Found 156 images belonging to 6 classes.\n"
          ],
          "name": "stdout"
        }
      ]
    },
    {
      "cell_type": "code",
      "metadata": {
        "colab": {
          "base_uri": "https://localhost:8080/"
        },
        "id": "3Ibj1eKtE7fD",
        "outputId": "c60bad0d-6322-4909-acb6-abf22d6eff4d"
      },
      "source": [
        "base_model.trainable = False\n",
        "#base_model.summary()\n",
        "inputs = keras.Input(shape=INPUT_SHAPE)\n",
        "\n",
        "x = base_model(inputs, training=False)\n",
        "# Convert features of shape `base_model.output_shape[1:]` to vectors\n",
        "x = keras.layers.GlobalAveragePooling2D()(x)\n",
        "# A Dense classifier with a single unit (binary classification)\n",
        "flat1 = keras.layers.Dense(1024, activation='relu')(x)\n",
        "outputs = keras.layers.Dense(NUM_CLASSES,activation='softmax')(flat1)\n",
        "model = keras.Model(inputs, outputs)\n",
        "model.summary()"
      ],
      "execution_count": 29,
      "outputs": [
        {
          "output_type": "stream",
          "text": [
            "Model: \"model\"\n",
            "_________________________________________________________________\n",
            "Layer (type)                 Output Shape              Param #   \n",
            "=================================================================\n",
            "input_2 (InputLayer)         [(None, 128, 128, 3)]     0         \n",
            "_________________________________________________________________\n",
            "resnet50 (Functional)        (None, 4, 4, 2048)        23587712  \n",
            "_________________________________________________________________\n",
            "global_average_pooling2d (Gl (None, 2048)              0         \n",
            "_________________________________________________________________\n",
            "dense_16 (Dense)             (None, 1024)              2098176   \n",
            "_________________________________________________________________\n",
            "dense_17 (Dense)             (None, 6)                 6150      \n",
            "=================================================================\n",
            "Total params: 25,692,038\n",
            "Trainable params: 2,104,326\n",
            "Non-trainable params: 23,587,712\n",
            "_________________________________________________________________\n"
          ],
          "name": "stdout"
        }
      ]
    },
    {
      "cell_type": "code",
      "metadata": {
        "id": "1CTwMQyhFGal",
        "colab": {
          "base_uri": "https://localhost:8080/"
        },
        "outputId": "ed59b502-ae1f-45a3-e2e6-8cb128b4deec"
      },
      "source": [
        "from keras.callbacks import ModelCheckpoint, EarlyStopping\n",
        "\n",
        "early = EarlyStopping(monitor='val_accuracy', \n",
        "                      min_delta=0, \n",
        "                      patience=8, \n",
        "                      verbose=1, \n",
        "                      mode='auto')\n",
        "\n",
        "model.compile(optimizer=keras.optimizers.Adam(),\n",
        "              loss='categorical_crossentropy',\n",
        "              metrics=['accuracy'])\n",
        "history = model.fit(\n",
        "          train_set_rgb,\n",
        "          steps_per_epoch=60,\n",
        "          epochs=35,\n",
        "          validation_data=test_set_rgb,\n",
        "          validation_steps=20,\n",
        "          shuffle = True,\n",
        "          callbacks=[early])"
      ],
      "execution_count": 30,
      "outputs": [
        {
          "output_type": "stream",
          "text": [
            "Epoch 1/35\n",
            "60/60 [==============================] - 26s 364ms/step - loss: 1.8954 - accuracy: 0.2694 - val_loss: 1.3548 - val_accuracy: 0.5000\n",
            "Epoch 2/35\n",
            "60/60 [==============================] - 21s 343ms/step - loss: 1.1254 - accuracy: 0.6130 - val_loss: 0.8406 - val_accuracy: 0.6500\n",
            "Epoch 3/35\n",
            "60/60 [==============================] - 20s 342ms/step - loss: 0.7591 - accuracy: 0.7836 - val_loss: 0.7222 - val_accuracy: 0.7875\n",
            "Epoch 4/35\n",
            "60/60 [==============================] - 20s 342ms/step - loss: 0.5889 - accuracy: 0.8527 - val_loss: 0.6040 - val_accuracy: 0.8000\n",
            "Epoch 5/35\n",
            "60/60 [==============================] - 21s 344ms/step - loss: 0.5136 - accuracy: 0.8563 - val_loss: 0.7004 - val_accuracy: 0.7500\n",
            "Epoch 6/35\n",
            "60/60 [==============================] - 20s 342ms/step - loss: 0.4824 - accuracy: 0.8276 - val_loss: 0.4826 - val_accuracy: 0.8625\n",
            "Epoch 7/35\n",
            "60/60 [==============================] - 20s 342ms/step - loss: 0.4213 - accuracy: 0.8879 - val_loss: 0.3580 - val_accuracy: 0.9000\n",
            "Epoch 8/35\n",
            "60/60 [==============================] - 20s 342ms/step - loss: 0.3249 - accuracy: 0.9253 - val_loss: 0.4790 - val_accuracy: 0.8500\n",
            "Epoch 9/35\n",
            "60/60 [==============================] - 20s 340ms/step - loss: 0.3023 - accuracy: 0.9113 - val_loss: 0.4021 - val_accuracy: 0.9000\n",
            "Epoch 10/35\n",
            "60/60 [==============================] - 20s 339ms/step - loss: 0.2131 - accuracy: 0.9521 - val_loss: 0.3532 - val_accuracy: 0.9375\n",
            "Epoch 11/35\n",
            "60/60 [==============================] - 20s 342ms/step - loss: 0.2491 - accuracy: 0.9303 - val_loss: 0.3811 - val_accuracy: 0.9000\n",
            "Epoch 12/35\n",
            "60/60 [==============================] - 20s 343ms/step - loss: 0.1865 - accuracy: 0.9626 - val_loss: 0.2497 - val_accuracy: 0.9250\n",
            "Epoch 13/35\n",
            "60/60 [==============================] - 20s 342ms/step - loss: 0.1666 - accuracy: 0.9765 - val_loss: 0.2637 - val_accuracy: 0.9125\n",
            "Epoch 14/35\n",
            "60/60 [==============================] - 20s 342ms/step - loss: 0.1412 - accuracy: 0.9718 - val_loss: 0.4180 - val_accuracy: 0.8625\n",
            "Epoch 15/35\n",
            "60/60 [==============================] - 20s 340ms/step - loss: 0.2299 - accuracy: 0.9021 - val_loss: 0.3099 - val_accuracy: 0.9125\n",
            "Epoch 16/35\n",
            "60/60 [==============================] - 20s 342ms/step - loss: 0.1451 - accuracy: 0.9639 - val_loss: 0.3801 - val_accuracy: 0.8875\n",
            "Epoch 17/35\n",
            "60/60 [==============================] - 20s 340ms/step - loss: 0.1152 - accuracy: 0.9700 - val_loss: 0.4921 - val_accuracy: 0.8625\n",
            "Epoch 18/35\n",
            "60/60 [==============================] - 21s 347ms/step - loss: 0.1164 - accuracy: 0.9619 - val_loss: 0.4626 - val_accuracy: 0.9125\n",
            "Epoch 00018: early stopping\n"
          ],
          "name": "stdout"
        }
      ]
    },
    {
      "cell_type": "code",
      "metadata": {
        "colab": {
          "base_uri": "https://localhost:8080/"
        },
        "id": "MKRa2oFV7yUS",
        "outputId": "0bba0ced-d5f3-4acf-9072-922c659d5117"
      },
      "source": [
        "results = model.evaluate(test_set_rgb, batch_size=4)\n",
        "print(\"test loss, test acc:\", results)"
      ],
      "execution_count": 31,
      "outputs": [
        {
          "output_type": "stream",
          "text": [
            "39/39 [==============================] - 10s 252ms/step - loss: 0.2653 - accuracy: 0.9487\n",
            "test loss, test acc: [0.26528504490852356, 0.9487179517745972]\n"
          ],
          "name": "stdout"
        }
      ]
    },
    {
      "cell_type": "code",
      "metadata": {
        "id": "38aTFxW4PUYx",
        "colab": {
          "base_uri": "https://localhost:8080/"
        },
        "outputId": "f83c33b5-611f-48cf-c02a-a019cd29ef8c"
      },
      "source": [
        "model.save(\"drive/MyDrive/resnet50_line_classifier\")"
      ],
      "execution_count": 32,
      "outputs": [
        {
          "output_type": "stream",
          "text": [
            "INFO:tensorflow:Assets written to: drive/MyDrive/resnet50_line_classifier/assets\n"
          ],
          "name": "stdout"
        }
      ]
    },
    {
      "cell_type": "markdown",
      "metadata": {
        "id": "wKJEGnVWM5tT"
      },
      "source": [
        "#Optimizing and converting model to tfLite"
      ]
    },
    {
      "cell_type": "code",
      "metadata": {
        "id": "k3Eae2CfR88s"
      },
      "source": [
        "saved_model_dir = \"drive/MyDrive/resnet50_line_classifier\""
      ],
      "execution_count": 33,
      "outputs": []
    },
    {
      "cell_type": "markdown",
      "metadata": {
        "id": "6tcCDe34Sb-E"
      },
      "source": [
        "##For CPU:"
      ]
    },
    {
      "cell_type": "code",
      "metadata": {
        "id": "piUQd_7eNC8f"
      },
      "source": [
        "converter = tf.lite.TFLiteConverter.from_saved_model(saved_model_dir) # path to the SavedModel directory\n",
        "converter.optimizations = [tf.lite.Optimize.DEFAULT]\n",
        "tflite_quant_model = converter.convert()\n",
        "\n",
        "# Save the model.\n",
        "with open('model_resnet50.tflite', 'wb') as f:\n",
        "  f.write(tflite_quant_model)"
      ],
      "execution_count": 34,
      "outputs": []
    },
    {
      "cell_type": "markdown",
      "metadata": {
        "id": "w9EkVrFYRxE4"
      },
      "source": [
        "##For edge TPU compatibility:"
      ]
    },
    {
      "cell_type": "code",
      "metadata": {
        "id": "yND6BOJJRiFz"
      },
      "source": [
        "def representative_dataset():\n",
        "  for data in tf.data.Dataset.from_tensor_slices((images)).batch(1).take(100):\n",
        "    yield [tf.dtypes.cast(data, tf.float32)]"
      ],
      "execution_count": null,
      "outputs": []
    },
    {
      "cell_type": "code",
      "metadata": {
        "id": "T7l9PzQSRm6F"
      },
      "source": [
        "converter = tf.lite.TFLiteConverter.from_saved_model(saved_model_dir)\n",
        "converter.optimizations = [tf.lite.Optimize.DEFAULT]\n",
        "converter.representative_dataset = representative_dataset\n",
        "converter.target_spec.supported_ops = [tf.lite.OpsSet.TFLITE_BUILTINS_INT8]\n",
        "converter.inference_input_type = tf.int8  # or tf.uint8\n",
        "converter.inference_output_type = tf.int8  # or tf.uint8\n",
        "tflite_quant_model = converter.convert()\n",
        "\n",
        "# Save the model.\n",
        "with open('model.tflite', 'wb') as f:\n",
        "  f.write(tflite_quant_model)"
      ],
      "execution_count": null,
      "outputs": []
    },
    {
      "cell_type": "markdown",
      "metadata": {
        "id": "zQ7B2w3nNDzS"
      },
      "source": [
        "#Testing tfLite model inference with tfLite interpretter"
      ]
    },
    {
      "cell_type": "code",
      "metadata": {
        "colab": {
          "base_uri": "https://localhost:8080/",
          "height": 257
        },
        "id": "nvrm31siwdZT",
        "outputId": "a427a1b4-50ed-431e-f3b4-ce45318292e5"
      },
      "source": [
        "interpreter = tf.lite.Interpreter(model_path='model.tflite')\n",
        "interpreter.allocate_tensors()\n",
        "\n",
        "# Get input and output tensors.\n",
        "input_details = interpreter.get_input_details()\n",
        "output_details = interpreter.get_output_details()\n",
        "\n",
        "# Test the model on random input data.\n",
        "input_shape = input_details[0]['shape']\n",
        "#set random np array to test\n",
        "#input_data = np.array(np.random.random_sample(input_shape), dtype=np.float32)\n",
        "\n",
        "img = cv2.imread('straight1.jpg')\n",
        "\n",
        "test_img = preprocess(img)\n",
        "pyplot.imshow(img)\n",
        "\n",
        "input_data = np.array(test_img, dtype=np.float32)\n",
        "interpreter.set_tensor(input_details[0]['index'], input_data)\n",
        "\n",
        "interpreter.invoke()\n",
        "\n",
        "# The function `get_tensor()` returns a copy of the tensor data.\n",
        "# Use `tensor()` in order to get a pointer to the tensor.\n",
        "output_data = interpreter.get_tensor(output_details[0]['index'])\n",
        "print(output_data)\n",
        "pred_index = np.argmax(output_data[0])\n",
        "print('The predicted class is:', class_names[pred_index] )"
      ],
      "execution_count": null,
      "outputs": [
        {
          "output_type": "stream",
          "text": [
            "[[8.7342328e-01 4.7582256e-05 6.7231787e-10 5.6731026e-04 3.9084390e-04\n",
            "  1.2557094e-01]]\n",
            "The predicted class is: straight\n"
          ],
          "name": "stdout"
        },
        {
          "output_type": "display_data",
          "data": {
            "image/png": "[encoded data removed]",
            "text/plain": [
              "<Figure size 432x288 with 1 Axes>"
            ]
          },
          "metadata": {
            "tags": [],
            "needs_background": "light"
          }
        }
      ]
    },
    {
      "cell_type": "markdown",
      "metadata": {
        "id": "puMcmLFbPCtO"
      },
      "source": [
        "#Comparing the two models"
      ]
    },
    {
      "cell_type": "code",
      "metadata": {
        "id": "_w1hNm_2PB4N"
      },
      "source": [
        ""
      ],
      "execution_count": null,
      "outputs": []
    }
  ]
}